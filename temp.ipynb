{
 "cells": [
  {
   "cell_type": "code",
   "execution_count": 6,
   "metadata": {},
   "outputs": [],
   "source": [
    "import torch\n",
    "import copy\n",
    "from torch.nn import functional as F\n",
    "import torch.nn as nn"
   ]
  },
  {
   "cell_type": "code",
   "execution_count": 14,
   "metadata": {},
   "outputs": [
    {
     "name": "stdout",
     "output_type": "stream",
     "text": [
      "0.weight Parameter containing:\n",
      "tensor([[0.9167],\n",
      "        [0.3254]], requires_grad=True) \n",
      "=====================\n",
      "0.bias Parameter containing:\n",
      "tensor([-0.2514, -0.4472], requires_grad=True) \n",
      "=====================\n",
      "2.weight Parameter containing:\n",
      "tensor([[-0.1024, -0.0273],\n",
      "        [ 0.6416,  0.6693],\n",
      "        [-0.5635,  0.6806]], requires_grad=True) \n",
      "=====================\n",
      "2.bias Parameter containing:\n",
      "tensor([-0.5677, -0.4745, -0.1256], requires_grad=True) \n",
      "=====================\n"
     ]
    }
   ],
   "source": [
    "net = nn.Sequential(\n",
    "    nn.Conv2d(6, 9, )\n",
    ")\n",
    "for i, (name, param) in enumerate(net.named_parameters()):\n",
    "    print(name, param, '\\n=====================')"
   ]
  },
  {
   "cell_type": "code",
   "execution_count": null,
   "metadata": {},
   "outputs": [],
   "source": [
    "net2 = copy.deepcopy(net)\n"
   ]
  }
 ],
 "metadata": {
  "kernelspec": {
   "display_name": "Python 3",
   "language": "python",
   "name": "python3"
  },
  "language_info": {
   "codemirror_mode": {
    "name": "ipython",
    "version": 3
   },
   "file_extension": ".py",
   "mimetype": "text/x-python",
   "name": "python",
   "nbconvert_exporter": "python",
   "pygments_lexer": "ipython3",
   "version": "3.9.16"
  },
  "orig_nbformat": 4
 },
 "nbformat": 4,
 "nbformat_minor": 2
}
